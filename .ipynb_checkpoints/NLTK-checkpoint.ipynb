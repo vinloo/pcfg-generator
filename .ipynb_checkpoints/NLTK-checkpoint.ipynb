{
 "cells": [
  {
   "cell_type": "markdown",
   "metadata": {},
   "source": [
    "# NLTK Project"
   ]
  },
  {
   "cell_type": "code",
   "execution_count": 2,
   "metadata": {},
   "outputs": [
    {
     "name": "stderr",
     "output_type": "stream",
     "text": [
      "[nltk_data] Downloading package punkt to /home/vincent/nltk_data...\n",
      "[nltk_data]   Package punkt is already up-to-date!\n",
      "[nltk_data] Downloading package averaged_perceptron_tagger to\n",
      "[nltk_data]     /home/vincent/nltk_data...\n",
      "[nltk_data]   Package averaged_perceptron_tagger is already up-to-\n",
      "[nltk_data]       date!\n",
      "[nltk_data] Downloading package maxent_ne_chunker to\n",
      "[nltk_data]     /home/vincent/nltk_data...\n",
      "[nltk_data]   Package maxent_ne_chunker is already up-to-date!\n",
      "[nltk_data] Downloading package wordnet to /home/vincent/nltk_data...\n",
      "[nltk_data]   Package wordnet is already up-to-date!\n"
     ]
    },
    {
     "data": {
      "text/plain": [
       "True"
      ]
     },
     "execution_count": 2,
     "metadata": {},
     "output_type": "execute_result"
    }
   ],
   "source": [
    "# Import necessary libraries\n",
    "import re\n",
    "import nltk\n",
    "from nltk import pos_tag, ne_chunk\n",
    "from nltk.stem.wordnet import WordNetLemmatizer\n",
    "from nltk.stem.porter import PorterStemmer\n",
    "from nltk.tokenize import word_tokenize\n",
    "from nltk.tokenize import sent_tokenize\n",
    "from nltk.corpus import stopwords\n",
    "nltk.download('punkt')\n",
    "nltk.download('averaged_perceptron_tagger')\n",
    "nltk.download('maxent_ne_chunker')\n",
    "nltk.download('wordnet')"
   ]
  },
  {
   "cell_type": "markdown",
   "metadata": {},
   "source": [
    "## Preprocessing the corpus"
   ]
  },
  {
   "cell_type": "code",
   "execution_count": 8,
   "metadata": {},
   "outputs": [
    {
     "name": "stdout",
     "output_type": "stream",
     "text": [
      "\n",
      "Never let the future disturb you. You will meet it, if you have to, with the same weapons of reason which today arm you against the present.\n",
      "You should … live in such a way that there is nothing which you could not as easily tell your enemy as keep to yourself.\n",
      "Relentlessly prune bullshit, don’t wait to do things that matter, and savor the time you have.\n",
      "Success is based off of your willingness to work your ass off no matter what obstacles are in your way.\n",
      "Problems only exist in the human mind.\n",
      "Just keep in mind: the more we value things outside our control, the less control we have.\n",
      "Live your life like you’re the hero in your movie.\n",
      "Keep your intention pure. Emotions will try to distract you. So keep going. That’s the cure.\n",
      "If you make happiness your goal, you’ll be disappointed. If you make presence your goal, you’ll be satisfied.\n",
      "Make the mind tougher by exposing it to adversity.\n",
      "We should live with the conviction: 'I wasn't born for one particular corner: the whole world‟s my home country.\n",
      "The more you seek the uncomfortable, the more you will become comfortable.\n",
      "What we fear doing most is usually what we most need to do.\n",
      "It is the power of the mind to be unconquerable.\n",
      "He is a wise man who does not grieve for the things which he has not, but rejoices for those which he has.\n",
      "Man conquers the world by conquering himself.\n",
      "Be tolerant with others and strict with yourself.\n",
      "A gem cannot be polished without friction, nor a man perfected without trials.\n",
      "To be even-minded is the greatest virtue.\n",
      "If what you have seems insufficient to you, then though you possess the world, you will yet be miserable.\n",
      "It is not the man who has too little that is poor, but the one who hankers after more.\n",
      "It is more necessary for the soul to be cured than the body; for it is better to die than to live badly.\n",
      "Life is a shipwreck, but we must not forget to sing in the lifeboats.\n",
      "While we wait for life, life passes.\n",
      "Disgraceful if, in this life where your body does not fail, your soul should fail you first.\n",
      "A man is as much a fool for shedding tears because he isn't going to be alive a thousand years from now.\n",
      "Too many people believe that everything must be pleasurable in life.\n",
      "Sometimes, even to live is an act of courage.\n",
      "When you arise in the morning think of what a privilege it is to be alive, to think, to enjoy, to love.\n",
      "When someone is properly grounded in life, they shouldn't have to look outside themselves for approval.\n",
      "Don’t allow yourself to be heard any longer griping about public life, not even with your own ears.\n",
      "The whole future lies in uncertainty: live immediately.\n",
      "It can ruin your life only if it ruins your character. Otherwise, it cannot harm you — inside or out.\n",
      "Self-control is strength. Right thought is mastery. Calmness is power.\n",
      "What you’re supposed to do when you don’t like a thing is change it. If you can’t change it, change the way you think about it. Don't complain.\n",
      "No man is free who is not master of himself.\n",
      "If change is forced upon you, you must resist the temptation to overreact or feel sorry for yourself.\n",
      "The true hero is one who conquers his own anger and hatred.\n",
      "When we are no longer able to change a situation, we are challenged to change ourselves.\n",
      "Self-discipline and self-control determine the quality of your life more than anything else.\n",
      "If you lose self-control everything will fall.\n",
      "Be silent for the most part, or, if you speak, say only what is necessary and in a few words.\n",
      "Self-control is the chief element in self-respect, and self-respect is the chief element in courage.\n",
      "Always resignation and acceptance. Always prudence and honour and duty. Elinor, where is your heart?\n",
      "It does not matter what you bear, but how you bear it.\n",
      "Uncertainty is an uncomfortable position. But certainty is an absurd one.\n",
      "Be a master of the mind, not mastered by the mind.\n",
      "The first rule is to keep an untroubled spirit. The second is to look things in the face and know them for what they are.\n",
      "Men are of little worth. Their brief lives last a single day. They cannot hold elusive pleasure fast; It melts away. All laurels wither; all illusions fade; Hopes have been phantoms, shade on air-built shade since time began.\n",
      "The art of being wise is the art of knowing what to overlook.\n",
      "The first principle of practical Stoicism is this: we don’t react to events; we react to our judgments about them, and the judgments are up to us.\n",
      "Learn to be indifferent to what makes no difference.\n",
      "Nothing is burdensome if taken lightly, and nothing need arouse one's irritation so long as one doesn't make it bigger than it is by getting irritated.\n",
      "A rational person can find peace by cultivating indifference to things outside of their control.\n",
      "Where you arrive does not matter as much as what sort of person you are when you arrive there.\n",
      "If it’s endurable, then endure it. Stop complaining.\n",
      "Each man has a character of his own choosing; it is chance or fate that decides his choice of job.\n",
      "The willing are led by fate, the reluctant are dragged.\n",
      "Many men will meet me who are drunkards, lustful, ungrateful, greedy, and excited by the frenzy of ambition.\n",
      "To be stoic is not to be emotionless, but to remain unaffected by your emotions.\n",
      "If you are distressed by anything external, the pain is not due to the thing itself, but to your estimate of it; and this you have the power to revoke at any moment.\n",
      "Move toward resistance and pain.\n",
      "Pain is neither intolerable nor everlasting if you bear in mind that it has its limits, and if you add nothing to it in imagination.\n",
      "Even if you are hurting, never let your competition see the look of defeat or even vulnerability on your face.\n",
      "Warriors should suffer their pain silently.\n",
      "[('never', 'RB'), ('let', 'VB'), ('the', 'DT'), ('future', 'NN'), ('disturb', 'NN'), ('you', 'PRP'), ('you', 'PRP'), ('will', 'MD'), ('meet', 'VB'), ('it', 'PRP'), ('if', 'IN'), ('you', 'PRP'), ('have', 'VBP'), ('to', 'TO'), ('with', 'IN'), ('the', 'DT'), ('same', 'JJ'), ('weapons', 'NNS'), ('of', 'IN'), ('reason', 'NN'), ('which', 'WDT'), ('today', 'NN'), ('arm', 'IN'), ('you', 'PRP'), ('against', 'IN'), ('the', 'DT'), ('present', 'JJ'), ('you', 'PRP'), ('should', 'MD'), ('live', 'VB'), ('in', 'IN'), ('such', 'JJ'), ('a', 'DT'), ('way', 'NN'), ('that', 'IN'), ('there', 'EX'), ('is', 'VBZ'), ('nothing', 'NN'), ('which', 'WDT'), ('you', 'PRP'), ('could', 'MD'), ('not', 'RB'), ('as', 'IN'), ('easily', 'RB'), ('tell', 'VB'), ('your', 'PRP$'), ('enemy', 'NN'), ('as', 'IN'), ('keep', 'NN'), ('to', 'TO'), ('yourself', 'VB'), ('relentlessly', 'RB'), ('prune', 'JJ'), ('bullshit', 'NN'), ('don', 'NN'), ('t', 'NN'), ('wait', 'NN'), ('to', 'TO'), ('do', 'VB'), ('things', 'NNS'), ('that', 'IN'), ('matter', 'NN'), ('and', 'CC'), ('savor', 'VB'), ('the', 'DT'), ('time', 'NN'), ('you', 'PRP'), ('have', 'VBP'), ('success', 'NN'), ('is', 'VBZ'), ('based', 'VBN'), ('off', 'IN'), ('of', 'IN'), ('your', 'PRP$'), ('willingness', 'NN'), ('to', 'TO'), ('work', 'VB'), ('your', 'PRP$'), ('ass', 'NN'), ('off', 'IN'), ('no', 'DT'), ('matter', 'NN'), ('what', 'WP'), ('obstacles', 'VBZ'), ('are', 'VBP'), ('in', 'IN'), ('your', 'PRP$'), ('way', 'NN'), ('problems', 'NNS'), ('only', 'RB'), ('exist', 'VBP'), ('in', 'IN'), ('the', 'DT'), ('human', 'JJ'), ('mind', 'NN'), ('just', 'RB'), ('keep', 'VB'), ('in', 'IN'), ('mind', 'NN'), ('the', 'DT'), ('more', 'JJR'), ('we', 'PRP'), ('value', 'NN'), ('things', 'NNS'), ('outside', 'IN'), ('our', 'PRP$'), ('control', 'NN'), ('the', 'DT'), ('less', 'JJR'), ('control', 'NN'), ('we', 'PRP'), ('have', 'VBP'), ('live', 'VBN'), ('your', 'PRP$'), ('life', 'NN'), ('like', 'IN'), ('you', 'PRP'), ('re', 'VBP'), ('the', 'DT'), ('hero', 'NN'), ('in', 'IN'), ('your', 'PRP$'), ('movie', 'NN'), ('keep', 'VB'), ('your', 'PRP$'), ('intention', 'NN'), ('pure', 'NN'), ('emotions', 'NNS'), ('will', 'MD'), ('try', 'VB'), ('to', 'TO'), ('distract', 'VB'), ('you', 'PRP'), ('so', 'RB'), ('keep', 'VB'), ('going', 'VBG'), ('that', 'IN'), ('s', 'VBZ'), ('the', 'DT'), ('cure', 'NN'), ('if', 'IN'), ('you', 'PRP'), ('make', 'VBP'), ('happiness', 'VB'), ('your', 'PRP$'), ('goal', 'NN'), ('you', 'PRP'), ('ll', 'VBP'), ('be', 'VB'), ('disappointed', 'VBN'), ('if', 'IN'), ('you', 'PRP'), ('make', 'VBP'), ('presence', 'NN'), ('your', 'PRP$'), ('goal', 'NN'), ('you', 'PRP'), ('ll', 'VBP'), ('be', 'VB'), ('satisfied', 'VBN'), ('make', 'VB'), ('the', 'DT'), ('mind', 'NN'), ('tougher', 'NN'), ('by', 'IN'), ('exposing', 'VBG'), ('it', 'PRP'), ('to', 'TO'), ('adversity', 'NN'), ('we', 'PRP'), ('should', 'MD'), ('live', 'VB'), ('with', 'IN'), ('the', 'DT'), ('conviction', 'NN'), ('i', 'NN'), ('wasn', 'VBP'), ('t', 'NN'), ('born', 'VBN'), ('for', 'IN'), ('one', 'CD'), ('particular', 'JJ'), ('corner', 'NN'), ('the', 'DT'), ('whole', 'JJ'), ('world', 'NN'), ('s', 'NN'), ('my', 'PRP$'), ('home', 'NN'), ('country', 'NN'), ('the', 'DT'), ('more', 'JJR'), ('you', 'PRP'), ('seek', 'VBP'), ('the', 'DT'), ('uncomfortable', 'JJ'), ('the', 'DT'), ('more', 'JJR'), ('you', 'PRP'), ('will', 'MD'), ('become', 'VB'), ('comfortable', 'JJ'), ('what', 'WP'), ('we', 'PRP'), ('fear', 'VBP'), ('doing', 'VBG'), ('most', 'RBS'), ('is', 'VBZ'), ('usually', 'RB'), ('what', 'WP'), ('we', 'PRP'), ('most', 'RBS'), ('need', 'VBP'), ('to', 'TO'), ('do', 'VB'), ('it', 'PRP'), ('is', 'VBZ'), ('the', 'DT'), ('power', 'NN'), ('of', 'IN'), ('the', 'DT'), ('mind', 'NN'), ('to', 'TO'), ('be', 'VB'), ('unconquerable', 'JJ'), ('he', 'PRP'), ('is', 'VBZ'), ('a', 'DT'), ('wise', 'JJ'), ('man', 'NN'), ('who', 'WP'), ('does', 'VBZ'), ('not', 'RB'), ('grieve', 'VB'), ('for', 'IN'), ('the', 'DT'), ('things', 'NNS'), ('which', 'WDT'), ('he', 'PRP'), ('has', 'VBZ'), ('not', 'RB'), ('but', 'CC'), ('rejoices', 'NNS'), ('for', 'IN'), ('those', 'DT'), ('which', 'WDT'), ('he', 'PRP'), ('has', 'VBZ'), ('man', 'NN'), ('conquers', 'NNS'), ('the', 'DT'), ('world', 'NN'), ('by', 'IN'), ('conquering', 'VBG'), ('himself', 'PRP'), ('be', 'VB'), ('tolerant', 'VBN'), ('with', 'IN'), ('others', 'NNS'), ('and', 'CC'), ('strict', 'JJ'), ('with', 'IN'), ('yourself', 'PRP'), ('a', 'DT'), ('gem', 'NN'), ('can', 'MD'), ('not', 'RB'), ('be', 'VB'), ('polished', 'VBN'), ('without', 'IN'), ('friction', 'NN'), ('nor', 'CC'), ('a', 'DT'), ('man', 'NN'), ('perfected', 'VBN'), ('without', 'IN'), ('trials', 'NNS'), ('to', 'TO'), ('be', 'VB'), ('even', 'RB'), ('minded', 'VBN'), ('is', 'VBZ'), ('the', 'DT'), ('greatest', 'JJS'), ('virtue', 'NN'), ('if', 'IN'), ('what', 'WP'), ('you', 'PRP'), ('have', 'VBP'), ('seems', 'VBZ'), ('insufficient', 'JJ'), ('to', 'TO'), ('you', 'PRP'), ('then', 'RB'), ('though', 'IN'), ('you', 'PRP'), ('possess', 'VBP'), ('the', 'DT'), ('world', 'NN'), ('you', 'PRP'), ('will', 'MD'), ('yet', 'RB'), ('be', 'VB'), ('miserable', 'JJ'), ('it', 'PRP'), ('is', 'VBZ'), ('not', 'RB'), ('the', 'DT'), ('man', 'NN'), ('who', 'WP'), ('has', 'VBZ'), ('too', 'RB'), ('little', 'JJ'), ('that', 'WDT'), ('is', 'VBZ'), ('poor', 'JJ'), ('but', 'CC'), ('the', 'DT'), ('one', 'NN'), ('who', 'WP'), ('hankers', 'VBZ'), ('after', 'IN'), ('more', 'JJR'), ('it', 'PRP'), ('is', 'VBZ'), ('more', 'RBR'), ('necessary', 'JJ'), ('for', 'IN'), ('the', 'DT'), ('soul', 'NN'), ('to', 'TO'), ('be', 'VB'), ('cured', 'VBN'), ('than', 'IN'), ('the', 'DT'), ('body', 'NN'), ('for', 'IN'), ('it', 'PRP'), ('is', 'VBZ'), ('better', 'RBR'), ('to', 'TO'), ('die', 'VB'), ('than', 'IN'), ('to', 'TO'), ('live', 'VB'), ('badly', 'RB'), ('life', 'NN'), ('is', 'VBZ'), ('a', 'DT'), ('shipwreck', 'NN'), ('but', 'CC'), ('we', 'PRP'), ('must', 'MD'), ('not', 'RB'), ('forget', 'VB'), ('to', 'TO'), ('sing', 'VBG'), ('in', 'IN'), ('the', 'DT'), ('lifeboats', 'NNS'), ('while', 'IN'), ('we', 'PRP'), ('wait', 'VBP'), ('for', 'IN'), ('life', 'NN'), ('life', 'NN'), ('passes', 'VBZ'), ('disgraceful', 'JJ'), ('if', 'IN'), ('in', 'IN'), ('this', 'DT'), ('life', 'NN'), ('where', 'WRB'), ('your', 'PRP$'), ('body', 'NN'), ('does', 'VBZ'), ('not', 'RB'), ('fail', 'VB'), ('your', 'PRP$'), ('soul', 'NN'), ('should', 'MD'), ('fail', 'VB'), ('you', 'PRP'), ('first', 'RB'), ('a', 'DT'), ('man', 'NN'), ('is', 'VBZ'), ('as', 'RB'), ('much', 'JJ'), ('a', 'DT'), ('fool', 'NN'), ('for', 'IN'), ('shedding', 'VBG'), ('tears', 'NNS'), ('because', 'IN'), ('he', 'PRP'), ('isn', 'VBZ'), ('t', 'RB'), ('going', 'VBG'), ('to', 'TO'), ('be', 'VB'), ('alive', 'JJ'), ('a', 'DT'), ('thousand', 'CD'), ('years', 'NNS'), ('from', 'IN'), ('now', 'RB'), ('too', 'RB'), ('many', 'JJ'), ('people', 'NNS'), ('believe', 'VBP'), ('that', 'IN'), ('everything', 'NN'), ('must', 'MD'), ('be', 'VB'), ('pleasurable', 'JJ'), ('in', 'IN'), ('life', 'NN'), ('sometimes', 'RB'), ('even', 'RB'), ('to', 'TO'), ('live', 'VB'), ('is', 'VBZ'), ('an', 'DT'), ('act', 'NN'), ('of', 'IN'), ('courage', 'NN'), ('when', 'WRB'), ('you', 'PRP'), ('arise', 'VBP'), ('in', 'IN'), ('the', 'DT'), ('morning', 'NN'), ('think', 'NN'), ('of', 'IN'), ('what', 'WP'), ('a', 'DT'), ('privilege', 'NN'), ('it', 'PRP'), ('is', 'VBZ'), ('to', 'TO'), ('be', 'VB'), ('alive', 'JJ'), ('to', 'TO'), ('think', 'VB'), ('to', 'TO'), ('enjoy', 'VB'), ('to', 'TO'), ('love', 'VB'), ('when', 'WRB'), ('someone', 'NN'), ('is', 'VBZ'), ('properly', 'RB'), ('grounded', 'VBN'), ('in', 'IN'), ('life', 'NN'), ('they', 'PRP'), ('shouldn', 'VBP'), ('t', 'NNS'), ('have', 'VBP'), ('to', 'TO'), ('look', 'VB'), ('outside', 'JJ'), ('themselves', 'PRP'), ('for', 'IN'), ('approval', 'NN'), ('don', 'NN'), ('t', 'NN'), ('allow', 'VB'), ('yourself', 'PRP'), ('to', 'TO'), ('be', 'VB'), ('heard', 'VBN'), ('any', 'DT'), ('longer', 'RBR'), ('griping', 'VBG'), ('about', 'IN'), ('public', 'JJ'), ('life', 'NN'), ('not', 'RB'), ('even', 'RB'), ('with', 'IN'), ('your', 'PRP$'), ('own', 'JJ'), ('ears', 'NNS'), ('the', 'DT'), ('whole', 'JJ'), ('future', 'NN'), ('lies', 'VBZ'), ('in', 'IN'), ('uncertainty', 'NN'), ('live', 'VBP'), ('immediately', 'RB'), ('it', 'PRP'), ('can', 'MD'), ('ruin', 'VB'), ('your', 'PRP$'), ('life', 'NN'), ('only', 'RB'), ('if', 'IN'), ('it', 'PRP'), ('ruins', 'VBZ'), ('your', 'PRP$'), ('character', 'NN'), ('otherwise', 'IN'), ('it', 'PRP'), ('can', 'MD'), ('not', 'RB'), ('harm', 'VB'), ('you', 'PRP'), ('inside', 'RB'), ('or', 'CC'), ('out', 'IN'), ('self', 'JJR'), ('control', 'NN'), ('is', 'VBZ'), ('strength', 'NN'), ('right', 'JJ'), ('thought', 'NN'), ('is', 'VBZ'), ('mastery', 'JJ'), ('calmness', 'NN'), ('is', 'VBZ'), ('power', 'NN'), ('what', 'WP'), ('you', 'PRP'), ('re', 'VBP'), ('supposed', 'VBN'), ('to', 'TO'), ('do', 'VB'), ('when', 'WRB'), ('you', 'PRP'), ('don', 'VBP'), ('t', 'NNS'), ('like', 'IN'), ('a', 'DT'), ('thing', 'NN'), ('is', 'VBZ'), ('change', 'VB'), ('it', 'PRP'), ('if', 'IN'), ('you', 'PRP'), ('can', 'MD'), ('t', 'VB'), ('change', 'VB'), ('it', 'PRP'), ('change', 'VB'), ('the', 'DT'), ('way', 'NN'), ('you', 'PRP'), ('think', 'VBP'), ('about', 'IN'), ('it', 'PRP'), ('don', 'VBZ'), ('t', 'JJ'), ('complain', 'NN'), ('no', 'DT'), ('man', 'NN'), ('is', 'VBZ'), ('free', 'JJ'), ('who', 'WP'), ('is', 'VBZ'), ('not', 'RB'), ('master', 'NN'), ('of', 'IN'), ('himself', 'PRP'), ('if', 'IN'), ('change', 'NN'), ('is', 'VBZ'), ('forced', 'VBN'), ('upon', 'IN'), ('you', 'PRP'), ('you', 'PRP'), ('must', 'MD'), ('resist', 'VB'), ('the', 'DT'), ('temptation', 'NN'), ('to', 'TO'), ('overreact', 'VB'), ('or', 'CC'), ('feel', 'VB'), ('sorry', 'JJ'), ('for', 'IN'), ('yourself', 'PRP'), ('the', 'DT'), ('true', 'JJ'), ('hero', 'NN'), ('is', 'VBZ'), ('one', 'CD'), ('who', 'WP'), ('conquers', 'VBZ'), ('his', 'PRP$'), ('own', 'JJ'), ('anger', 'NN'), ('and', 'CC'), ('hatred', 'VBD'), ('when', 'WRB'), ('we', 'PRP'), ('are', 'VBP'), ('no', 'RB'), ('longer', 'RBR'), ('able', 'JJ'), ('to', 'TO'), ('change', 'VB'), ('a', 'DT'), ('situation', 'NN'), ('we', 'PRP'), ('are', 'VBP'), ('challenged', 'VBN'), ('to', 'TO'), ('change', 'VB'), ('ourselves', 'PRP'), ('self', 'PRP'), ('discipline', 'NN'), ('and', 'CC'), ('self', 'NN'), ('control', 'NN'), ('determine', 'VBZ'), ('the', 'DT'), ('quality', 'NN'), ('of', 'IN'), ('your', 'PRP$'), ('life', 'NN'), ('more', 'RBR'), ('than', 'IN'), ('anything', 'NN'), ('else', 'RB'), ('if', 'IN'), ('you', 'PRP'), ('lose', 'VBP'), ('self', 'PRP'), ('control', 'NN'), ('everything', 'NN'), ('will', 'MD'), ('fall', 'VB'), ('be', 'VB'), ('silent', 'JJ'), ('for', 'IN'), ('the', 'DT'), ('most', 'JJS'), ('part', 'NN'), ('or', 'CC'), ('if', 'IN'), ('you', 'PRP'), ('speak', 'VBP'), ('say', 'VB'), ('only', 'RB'), ('what', 'WP'), ('is', 'VBZ'), ('necessary', 'JJ'), ('and', 'CC'), ('in', 'IN'), ('a', 'DT'), ('few', 'JJ'), ('words', 'NNS'), ('self', 'VBN'), ('control', 'NN'), ('is', 'VBZ'), ('the', 'DT'), ('chief', 'JJ'), ('element', 'NN'), ('in', 'IN'), ('self', 'NN'), ('respect', 'NN'), ('and', 'CC'), ('self', 'NN'), ('respect', 'NN'), ('is', 'VBZ'), ('the', 'DT'), ('chief', 'JJ'), ('element', 'NN'), ('in', 'IN'), ('courage', 'NN'), ('always', 'RB'), ('resignation', 'NN'), ('and', 'CC'), ('acceptance', 'NN'), ('always', 'RB'), ('prudence', 'NN'), ('and', 'CC'), ('honour', 'NN'), ('and', 'CC'), ('duty', 'NN'), ('elinor', 'NN'), ('where', 'WRB'), ('is', 'VBZ'), ('your', 'PRP$'), ('heart', 'NN'), ('it', 'PRP'), ('does', 'VBZ'), ('not', 'RB'), ('matter', 'VB'), ('what', 'WP'), ('you', 'PRP'), ('bear', 'VBP'), ('but', 'CC'), ('how', 'WRB'), ('you', 'PRP'), ('bear', 'VBP'), ('it', 'PRP'), ('uncertainty', 'NN'), ('is', 'VBZ'), ('an', 'DT'), ('uncomfortable', 'JJ'), ('position', 'NN'), ('but', 'CC'), ('certainty', 'NN'), ('is', 'VBZ'), ('an', 'DT'), ('absurd', 'JJ'), ('one', 'CD'), ('be', 'VB'), ('a', 'DT'), ('master', 'NN'), ('of', 'IN'), ('the', 'DT'), ('mind', 'NN'), ('not', 'RB'), ('mastered', 'VBN'), ('by', 'IN'), ('the', 'DT'), ('mind', 'NN'), ('the', 'DT'), ('first', 'JJ'), ('rule', 'NN'), ('is', 'VBZ'), ('to', 'TO'), ('keep', 'VB'), ('an', 'DT'), ('untroubled', 'JJ'), ('spirit', 'NN'), ('the', 'DT'), ('second', 'JJ'), ('is', 'VBZ'), ('to', 'TO'), ('look', 'VB'), ('things', 'NNS'), ('in', 'IN'), ('the', 'DT'), ('face', 'NN'), ('and', 'CC'), ('know', 'VB'), ('them', 'PRP'), ('for', 'IN'), ('what', 'WP'), ('they', 'PRP'), ('are', 'VBP'), ('men', 'NNS'), ('are', 'VBP'), ('of', 'IN'), ('little', 'JJ'), ('worth', 'JJ'), ('their', 'PRP$'), ('brief', 'NN'), ('lives', 'VBZ'), ('last', 'JJ'), ('a', 'DT'), ('single', 'JJ'), ('day', 'NN'), ('they', 'PRP'), ('can', 'MD'), ('not', 'RB'), ('hold', 'VB'), ('elusive', 'JJ'), ('pleasure', 'NN'), ('fast', 'VBD'), ('it', 'PRP'), ('melts', 'VB'), ('away', 'RP'), ('all', 'DT'), ('laurels', 'NNS'), ('wither', 'VBP'), ('all', 'DT'), ('illusions', 'NNS'), ('fade', 'VBP'), ('hopes', 'NNS'), ('have', 'VBP'), ('been', 'VBN'), ('phantoms', 'NNS'), ('shade', 'VBN'), ('on', 'IN'), ('air', 'NN'), ('built', 'VBN'), ('shade', 'VBN'), ('since', 'IN'), ('time', 'NN'), ('began', 'VBD'), ('the', 'DT'), ('art', 'NN'), ('of', 'IN'), ('being', 'VBG'), ('wise', 'NN'), ('is', 'VBZ'), ('the', 'DT'), ('art', 'NN'), ('of', 'IN'), ('knowing', 'VBG'), ('what', 'WP'), ('to', 'TO'), ('overlook', 'VB'), ('the', 'DT'), ('first', 'JJ'), ('principle', 'NN'), ('of', 'IN'), ('practical', 'JJ'), ('stoicism', 'NN'), ('is', 'VBZ'), ('this', 'DT'), ('we', 'PRP'), ('don', 'VBP'), ('t', 'JJ'), ('react', 'NN'), ('to', 'TO'), ('events', 'NNS'), ('we', 'PRP'), ('react', 'VBP'), ('to', 'TO'), ('our', 'PRP$'), ('judgments', 'NNS'), ('about', 'IN'), ('them', 'PRP'), ('and', 'CC'), ('the', 'DT'), ('judgments', 'NNS'), ('are', 'VBP'), ('up', 'RB'), ('to', 'TO'), ('us', 'PRP'), ('learn', 'VB'), ('to', 'TO'), ('be', 'VB'), ('indifferent', 'JJ'), ('to', 'TO'), ('what', 'WP'), ('makes', 'VBZ'), ('no', 'DT'), ('difference', 'NN'), ('nothing', 'NN'), ('is', 'VBZ'), ('burdensome', 'JJ'), ('if', 'IN'), ('taken', 'VBN'), ('lightly', 'RB'), ('and', 'CC'), ('nothing', 'NN'), ('need', 'NN'), ('arouse', 'IN'), ('one', 'CD'), ('s', 'NN'), ('irritation', 'NN'), ('so', 'RB'), ('long', 'RB'), ('as', 'IN'), ('one', 'CD'), ('doesn', 'NN'), ('t', 'WDT'), ('make', 'VBP'), ('it', 'PRP'), ('bigger', 'JJR'), ('than', 'IN'), ('it', 'PRP'), ('is', 'VBZ'), ('by', 'IN'), ('getting', 'VBG'), ('irritated', 'VBD'), ('a', 'DT'), ('rational', 'JJ'), ('person', 'NN'), ('can', 'MD'), ('find', 'VB'), ('peace', 'NN'), ('by', 'IN'), ('cultivating', 'VBG'), ('indifference', 'NN'), ('to', 'TO'), ('things', 'NNS'), ('outside', 'IN'), ('of', 'IN'), ('their', 'PRP$'), ('control', 'NN'), ('where', 'WRB'), ('you', 'PRP'), ('arrive', 'VBP'), ('does', 'VBZ'), ('not', 'RB'), ('matter', 'VB'), ('as', 'RB'), ('much', 'RB'), ('as', 'IN'), ('what', 'WP'), ('sort', 'NN'), ('of', 'IN'), ('person', 'NN'), ('you', 'PRP'), ('are', 'VBP'), ('when', 'WRB'), ('you', 'PRP'), ('arrive', 'VBP'), ('there', 'RB'), ('if', 'IN'), ('it', 'PRP'), ('s', 'VBZ'), ('endurable', 'JJ'), ('then', 'RB'), ('endure', 'VB'), ('it', 'PRP'), ('stop', 'VB'), ('complaining', 'VBG'), ('each', 'DT'), ('man', 'NN'), ('has', 'VBZ'), ('a', 'DT'), ('character', 'NN'), ('of', 'IN'), ('his', 'PRP$'), ('own', 'JJ'), ('choosing', 'NN'), ('it', 'PRP'), ('is', 'VBZ'), ('chance', 'NN'), ('or', 'CC'), ('fate', 'VB'), ('that', 'DT'), ('decides', 'VBZ'), ('his', 'PRP$'), ('choice', 'NN'), ('of', 'IN'), ('job', 'NN'), ('the', 'DT'), ('willing', 'JJ'), ('are', 'VBP'), ('led', 'VBN'), ('by', 'IN'), ('fate', 'NN'), ('the', 'DT'), ('reluctant', 'NN'), ('are', 'VBP'), ('dragged', 'VBN'), ('many', 'JJ'), ('men', 'NNS'), ('will', 'MD'), ('meet', 'VB'), ('me', 'PRP'), ('who', 'WP'), ('are', 'VBP'), ('drunkards', 'NNS'), ('lustful', 'JJ'), ('ungrateful', 'JJ'), ('greedy', 'NN'), ('and', 'CC'), ('excited', 'VBN'), ('by', 'IN'), ('the', 'DT'), ('frenzy', 'NN'), ('of', 'IN'), ('ambition', 'NN'), ('to', 'TO'), ('be', 'VB'), ('stoic', 'VBN'), ('is', 'VBZ'), ('not', 'RB'), ('to', 'TO'), ('be', 'VB'), ('emotionless', 'RB'), ('but', 'CC'), ('to', 'TO'), ('remain', 'VB'), ('unaffected', 'JJ'), ('by', 'IN'), ('your', 'PRP$'), ('emotions', 'NNS'), ('if', 'IN'), ('you', 'PRP'), ('are', 'VBP'), ('distressed', 'VBN'), ('by', 'IN'), ('anything', 'NN'), ('external', 'JJ'), ('the', 'DT'), ('pain', 'NN'), ('is', 'VBZ'), ('not', 'RB'), ('due', 'JJ'), ('to', 'TO'), ('the', 'DT'), ('thing', 'NN'), ('itself', 'PRP'), ('but', 'CC'), ('to', 'TO'), ('your', 'PRP$'), ('estimate', 'NN'), ('of', 'IN'), ('it', 'PRP'), ('and', 'CC'), ('this', 'DT'), ('you', 'PRP'), ('have', 'VBP'), ('the', 'DT'), ('power', 'NN'), ('to', 'TO'), ('revoke', 'VB'), ('at', 'IN'), ('any', 'DT'), ('moment', 'NN'), ('move', 'NN'), ('toward', 'IN'), ('resistance', 'NN'), ('and', 'CC'), ('pain', 'NN'), ('pain', 'NN'), ('is', 'VBZ'), ('neither', 'DT'), ('intolerable', 'JJ'), ('nor', 'CC'), ('everlasting', 'JJ'), ('if', 'IN'), ('you', 'PRP'), ('bear', 'VBP'), ('in', 'IN'), ('mind', 'NN'), ('that', 'IN'), ('it', 'PRP'), ('has', 'VBZ'), ('its', 'PRP$'), ('limits', 'NNS'), ('and', 'CC'), ('if', 'IN'), ('you', 'PRP'), ('add', 'VBP'), ('nothing', 'NN'), ('to', 'TO'), ('it', 'PRP'), ('in', 'IN'), ('imagination', 'NN'), ('even', 'RB'), ('if', 'IN'), ('you', 'PRP'), ('are', 'VBP'), ('hurting', 'VBG'), ('never', 'RB'), ('let', 'VB'), ('your', 'PRP$'), ('competition', 'NN'), ('see', 'VBP'), ('the', 'DT'), ('look', 'NN'), ('of', 'IN'), ('defeat', 'NN'), ('or', 'CC'), ('even', 'RB'), ('vulnerability', 'NN'), ('on', 'IN'), ('your', 'PRP$'), ('face', 'NN'), ('warriors', 'NNS'), ('should', 'MD'), ('suffer', 'VB'), ('their', 'PRP$'), ('pain', 'NN'), ('silently', 'RB')]\n"
     ]
    }
   ],
   "source": [
    "# Load the corpus\n",
    "f = open('corpus.txt')\n",
    "raw = f.read()\n",
    "\n",
    "# Remove empty lines\n",
    "raw = re.sub(r\"\\n\\n\", \"\\n\", raw)\n",
    "\n",
    "# Remove pholosopher\n",
    "\n",
    "\n",
    "# Remove number and philosopther\n",
    "corpus = \"\"\n",
    "for line in raw.split(\"\\n\"):\n",
    "    # Replace all . within the quote with a ,\n",
    "    \n",
    "    corpus = corpus + \"\\n\" + re.sub(r\"[0-9]+. \", \"\", line).split(\" - \")[0]\n",
    "print(corpus)\n",
    "\n",
    "# Normalize\n",
    "normalized = corpus.lower()\n",
    "normalized = re.sub(r\"[^a-zA-Z0-9]\", \" \", normalized)\n",
    "\n",
    "# Tokenize\n",
    "words = word_tokenize(normalized)\n",
    "sentences = sent_tokenize(corpus)\n",
    "\n",
    "# Tag each word with part of speech\n",
    "tags = pos_tag(words)\n",
    "\n",
    "# Tokenize, pos tag, then recognize named entities in text\n",
    "tree = ne_chunk(pos_tag(word_tokenize(normalized)))\n",
    "\n",
    "# Reduce words to their stems\n",
    "stemmed = [PorterStemmer().stem(w) for w in words]\n",
    "lemmed = [WordNetLemmatizer().lemmatize(w, pos='v') for w in words]"
   ]
  },
  {
   "cell_type": "markdown",
   "metadata": {},
   "source": [
    "## Corpus statistics"
   ]
  },
  {
   "cell_type": "code",
   "execution_count": 4,
   "metadata": {},
   "outputs": [
    {
     "name": "stdout",
     "output_type": "stream",
     "text": [
      "Words: 1060\n",
      "Vocabulary size: 402\n",
      "Sentences: 83\n",
      "Average sentence length: 12\n",
      "5 Most used words:\n",
      "   - the (51)\n",
      "   - to (42)\n",
      "   - you (40)\n",
      "   - is (39)\n",
      "   - it (24)\n",
      "Hapaxes: 286\n"
     ]
    }
   ],
   "source": [
    "# Some basic statistic\n",
    "print(\"Words:\", len(words))\n",
    "print(\"Vocabulary size:\", len(set(lemmed)))\n",
    "print(\"Sentences:\", len(sentences))\n",
    "print(\"Average sentence length:\", int(len(words)/len(sentences)))\n",
    "\n",
    "fdist = nltk.FreqDist(words)\n",
    "\n",
    "# Count and print most used words\n",
    "print(\"5 Most used words:\")\n",
    "for (word, n) in fdist.most_common(5):\n",
    "    print(\"   -\", word, \"(\" + str(n) + \")\")\n",
    "\n",
    "# Count and print amount of hapaxes\n",
    "hapaxes = 0\n",
    "for (word, n) in fdist.items():\n",
    "    if n == 1:\n",
    "        hapaxes = hapaxes + 1\n",
    "print(\"Hapaxes:\", hapaxes)"
   ]
  },
  {
   "cell_type": "code",
   "execution_count": null,
   "metadata": {},
   "outputs": [],
   "source": []
  }
 ],
 "metadata": {
  "kernelspec": {
   "display_name": "Python 3",
   "language": "python",
   "name": "python3"
  },
  "language_info": {
   "codemirror_mode": {
    "name": "ipython",
    "version": 3
   },
   "file_extension": ".py",
   "mimetype": "text/x-python",
   "name": "python",
   "nbconvert_exporter": "python",
   "pygments_lexer": "ipython3",
   "version": "3.8.5"
  }
 },
 "nbformat": 4,
 "nbformat_minor": 4
}
