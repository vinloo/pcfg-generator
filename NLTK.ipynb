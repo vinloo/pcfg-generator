{
 "cells": [
  {
   "cell_type": "markdown",
   "metadata": {},
   "source": [
    "# NLTK Project"
   ]
  },
  {
   "cell_type": "code",
   "execution_count": 105,
   "metadata": {},
   "outputs": [
    {
     "name": "stderr",
     "output_type": "stream",
     "text": [
      "[nltk_data] Downloading package punkt to /home/vincent/nltk_data...\n",
      "[nltk_data]   Package punkt is already up-to-date!\n",
      "[nltk_data] Downloading package averaged_perceptron_tagger to\n",
      "[nltk_data]     /home/vincent/nltk_data...\n",
      "[nltk_data]   Package averaged_perceptron_tagger is already up-to-\n",
      "[nltk_data]       date!\n",
      "[nltk_data] Downloading package maxent_ne_chunker to\n",
      "[nltk_data]     /home/vincent/nltk_data...\n",
      "[nltk_data]   Package maxent_ne_chunker is already up-to-date!\n",
      "[nltk_data] Downloading package wordnet to /home/vincent/nltk_data...\n",
      "[nltk_data]   Package wordnet is already up-to-date!\n"
     ]
    },
    {
     "data": {
      "text/plain": [
       "True"
      ]
     },
     "execution_count": 105,
     "metadata": {},
     "output_type": "execute_result"
    }
   ],
   "source": [
    "# Import necessary libraries\n",
    "import re\n",
    "import nltk\n",
    "from nltk import pos_tag, ne_chunk\n",
    "from nltk.stem.wordnet import WordNetLemmatizer\n",
    "from nltk.stem.porter import PorterStemmer\n",
    "from nltk.tokenize import word_tokenize\n",
    "from nltk.tokenize import sent_tokenize\n",
    "from nltk.corpus import stopwords\n",
    "nltk.download('punkt')\n",
    "nltk.download('averaged_perceptron_tagger')\n",
    "nltk.download('maxent_ne_chunker')\n",
    "nltk.download('wordnet')"
   ]
  },
  {
   "cell_type": "markdown",
   "metadata": {},
   "source": [
    "## Preprocessing the corpus"
   ]
  },
  {
   "cell_type": "code",
   "execution_count": 106,
   "metadata": {},
   "outputs": [],
   "source": [
    "# Load the corpus\n",
    "f = open('corpus.txt')\n",
    "corpus = f.read()\n",
    "\n",
    "# Normalize\n",
    "normalized = corpus.lower()\n",
    "normalized = re.sub(r\"[^a-zA-Z0-9]\", \" \", normalized)\n",
    "\n",
    "# Tokenize\n",
    "words = word_tokenize(normalized)\n",
    "sentences = sent_tokenize(corpus)\n",
    "\n",
    "# Tag each word with part of speech\n",
    "tags = pos_tag(words)\n",
    "\n",
    "# Tokenize, pos tag, then recognize named entities in text\n",
    "tree = ne_chunk(pos_tag(word_tokenize(normalized)))\n",
    "\n",
    "# Reduce words to their stems\n",
    "stemmed = [PorterStemmer().stem(w) for w in words]\n",
    "lemmed = [WordNetLemmatizer().lemmatize(w, pos='v') for w in words]"
   ]
  },
  {
   "cell_type": "markdown",
   "metadata": {},
   "source": [
    "## Corpus statistics"
   ]
  },
  {
   "cell_type": "code",
   "execution_count": 131,
   "metadata": {},
   "outputs": [
    {
     "name": "stdout",
     "output_type": "stream",
     "text": [
      "Words: 1078\n",
      "Lemmanized words: 383\n",
      "Sentences: 33\n",
      "Average sentence length: 32\n",
      "5 Most used words:\n",
      "   - and (59)\n",
      "   - the (53)\n",
      "   - of (41)\n",
      "   - to (33)\n",
      "   - is (29)\n",
      "Hapaxes: 284\n"
     ]
    }
   ],
   "source": [
    "# Some basic statistic\n",
    "print(\"Words:\", len(words))\n",
    "print(\"Lemmanized words:\", len(set(lemmed)))\n",
    "print(\"Sentences:\", len(sentences))\n",
    "print(\"Average sentence length:\", int(len(words)/len(sentences)))\n",
    "\n",
    "fdist = nltk.FreqDist(words)\n",
    "\n",
    "# Count and print most used words\n",
    "print(\"5 Most used words:\")\n",
    "for (word, n) in fdist.most_common(5):\n",
    "    print(\"   -\", word, \"(\" + str(n) + \")\")\n",
    "\n",
    "# Count and print amount of hapaxes\n",
    "hapaxes = 0\n",
    "for (word, n) in fdist.items():\n",
    "    if n == 1:\n",
    "        hapaxes = hapaxes + 1\n",
    "print(\"Hapaxes:\", hapaxes)"
   ]
  },
  {
   "cell_type": "code",
   "execution_count": null,
   "metadata": {},
   "outputs": [],
   "source": []
  }
 ],
 "metadata": {
  "kernelspec": {
   "display_name": "Python 3",
   "language": "python",
   "name": "python3"
  },
  "language_info": {
   "codemirror_mode": {
    "name": "ipython",
    "version": 3
   },
   "file_extension": ".py",
   "mimetype": "text/x-python",
   "name": "python",
   "nbconvert_exporter": "python",
   "pygments_lexer": "ipython3",
   "version": "3.8.5"
  }
 },
 "nbformat": 4,
 "nbformat_minor": 4
}
